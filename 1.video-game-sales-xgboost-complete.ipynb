{
 "cells": [
  {
   "cell_type": "markdown",
   "metadata": {},
   "source": [
    "# Predicting Product Success When Review Data Is Available\n",
    "_**Using XGBoost to Predict Whether Sales will Exceed the \"Hit\" Threshold**_\n",
    "\n",
    "---\n",
    "\n",
    "---\n",
    "\n",
    "## Contents\n",
    "\n",
    "1. [Background](#Background)\n",
    "1. [Setup](#Setup)\n",
    "1. [Data](#Data)\n",
    "1. [Train](#Train)\n",
    "1. [Host](#Host)\n",
    "1. [Evaluation](#Evaluation)\n",
    "1. [Extensions](#Extensions)\n",
    "\n",
    "\n",
    "## Background\n",
    "\n",
    "Word of mouth in the form of user reviews, critic reviews, social media comments, etc. often can provide insights about whether a product ultimately will be a success. In the video game industry in particular, reviews and ratings can have a large impact on a game's success. However, not all games with bad reviews fail, and not all games with good reviews turn out to be hits. To predict hit games, machine learning algorithms potentially can take advantage of various relevant data attributes in addition to reviews.  \n",
    "\n",
    "For this notebook, we will work with the dataset [Video Game Sales with Ratings](https://www.kaggle.com/rush4ratio/video-game-sales-with-ratings) from Kaggle. This dataset includes data from [Metacritic](http://www.metacritic.com/browse/games/release-date/available) and other sources, with attributes for user reviews as well as critic reviews, sales, ESRB ratings, among others. Both user reviews and critic reviews are in the form of ratings scores, on a scale of 0 to 10 or 0 to 100. Although this is convenient, a significant issue with the dataset is that it is relatively small.  \n",
    "\n",
    "Dealing with a small dataset such as this one is a common problem in machine learning. This problem often is compounded by imbalances between the classes in the small dataset. In such situations, using an ensemble learner can be a good choice.  This notebook will focus on using XGBoost, a popular ensemble learner, to build a classifier to determine whether a game will be a hit. \n",
    "\n",
    "## Setup\n",
    "\n",
    "\n",
    "Let's start by:\n",
    "\n",
    "- Importing various Python libraries we'll need.\n",
    "- Instantiate a SageMaker session for various tasks within this notebook, and get the AWS Region.\n",
    "- Specifying a S3 bucket and bucket prefix to use for training and model data.\n",
    "- Defining an IAM role for S3 data access, which is pulled in from the SageMaker notebook instance."
   ]
  },
  {
   "cell_type": "code",
   "execution_count": 5,
   "metadata": {
    "isConfigCell": true
   },
   "outputs": [
    {
     "name": "stderr",
     "output_type": "stream",
     "text": [
      "Couldn't call 'get_role' to get Role ARN from role name AmazonSageMaker-ExecutionRole-20210526T221366 to get Role path.\n",
      "Assuming role was created in SageMaker AWS console, as the name contains `AmazonSageMaker-ExecutionRole`. Defaulting to Role ARN with service-role in path. If this Role ARN is incorrect, please add IAM read permissions to your role or supply the Role Arn directly.\n"
     ]
    },
    {
     "name": "stdout",
     "output_type": "stream",
     "text": [
      "Bucket:\n",
      "sagemaker-eu-central-1-216462449154\n"
     ]
    }
   ],
   "source": [
    "import numpy as np\n",
    "import pandas as pd\n",
    "import matplotlib.pyplot as plt\n",
    "from IPython.display import Image\n",
    "from IPython.display import display\n",
    "from sklearn.datasets import dump_svmlight_file\n",
    "from time import gmtime, strftime\n",
    "import sys\n",
    "import math\n",
    "import json\n",
    "import boto3\n",
    "import sagemaker\n",
    "\n",
    "session = sagemaker.Session()\n",
    "region = session.boto_region_name\n",
    "bucket = session.default_bucket()\n",
    "prefix = \"sagemaker/videogames-xgboost\"\n",
    "role = sagemaker.get_execution_role()\n",
    "\n",
    "print(\"Bucket:\\n{}\".format(bucket))"
   ]
  },
  {
   "cell_type": "markdown",
   "metadata": {},
   "source": [
    "## Reading the data\n",
    "\n",
    "The data is provided in git repository ./data direcory. Let's read and display the example data:"
   ]
  },
  {
   "cell_type": "code",
   "execution_count": 8,
   "metadata": {},
   "outputs": [
    {
     "data": {
      "text/html": [
       "<div>\n",
       "<style scoped>\n",
       "    .dataframe tbody tr th:only-of-type {\n",
       "        vertical-align: middle;\n",
       "    }\n",
       "\n",
       "    .dataframe tbody tr th {\n",
       "        vertical-align: top;\n",
       "    }\n",
       "\n",
       "    .dataframe thead th {\n",
       "        text-align: right;\n",
       "    }\n",
       "</style>\n",
       "<table border=\"1\" class=\"dataframe\">\n",
       "  <thead>\n",
       "    <tr style=\"text-align: right;\">\n",
       "      <th></th>\n",
       "      <th>Name</th>\n",
       "      <th>Platform</th>\n",
       "      <th>Year_of_Release</th>\n",
       "      <th>Genre</th>\n",
       "      <th>Publisher</th>\n",
       "      <th>NA_Sales</th>\n",
       "      <th>EU_Sales</th>\n",
       "      <th>JP_Sales</th>\n",
       "      <th>Other_Sales</th>\n",
       "      <th>Global_Sales</th>\n",
       "      <th>Critic_Score</th>\n",
       "      <th>Critic_Count</th>\n",
       "      <th>User_Score</th>\n",
       "      <th>User_Count</th>\n",
       "      <th>Developer</th>\n",
       "      <th>Rating</th>\n",
       "    </tr>\n",
       "  </thead>\n",
       "  <tbody>\n",
       "    <tr>\n",
       "      <th>0</th>\n",
       "      <td>Wii Sports</td>\n",
       "      <td>Wii</td>\n",
       "      <td>2006.0</td>\n",
       "      <td>Sports</td>\n",
       "      <td>Nintendo</td>\n",
       "      <td>41.36</td>\n",
       "      <td>28.96</td>\n",
       "      <td>3.77</td>\n",
       "      <td>8.45</td>\n",
       "      <td>82.53</td>\n",
       "      <td>76.0</td>\n",
       "      <td>51.0</td>\n",
       "      <td>8</td>\n",
       "      <td>322.0</td>\n",
       "      <td>Nintendo</td>\n",
       "      <td>E</td>\n",
       "    </tr>\n",
       "    <tr>\n",
       "      <th>1</th>\n",
       "      <td>Super Mario Bros.</td>\n",
       "      <td>NES</td>\n",
       "      <td>1985.0</td>\n",
       "      <td>Platform</td>\n",
       "      <td>Nintendo</td>\n",
       "      <td>29.08</td>\n",
       "      <td>3.58</td>\n",
       "      <td>6.81</td>\n",
       "      <td>0.77</td>\n",
       "      <td>40.24</td>\n",
       "      <td>NaN</td>\n",
       "      <td>NaN</td>\n",
       "      <td>NaN</td>\n",
       "      <td>NaN</td>\n",
       "      <td>NaN</td>\n",
       "      <td>NaN</td>\n",
       "    </tr>\n",
       "    <tr>\n",
       "      <th>2</th>\n",
       "      <td>Mario Kart Wii</td>\n",
       "      <td>Wii</td>\n",
       "      <td>2008.0</td>\n",
       "      <td>Racing</td>\n",
       "      <td>Nintendo</td>\n",
       "      <td>15.68</td>\n",
       "      <td>12.76</td>\n",
       "      <td>3.79</td>\n",
       "      <td>3.29</td>\n",
       "      <td>35.52</td>\n",
       "      <td>82.0</td>\n",
       "      <td>73.0</td>\n",
       "      <td>8.3</td>\n",
       "      <td>709.0</td>\n",
       "      <td>Nintendo</td>\n",
       "      <td>E</td>\n",
       "    </tr>\n",
       "    <tr>\n",
       "      <th>3</th>\n",
       "      <td>Wii Sports Resort</td>\n",
       "      <td>Wii</td>\n",
       "      <td>2009.0</td>\n",
       "      <td>Sports</td>\n",
       "      <td>Nintendo</td>\n",
       "      <td>15.61</td>\n",
       "      <td>10.93</td>\n",
       "      <td>3.28</td>\n",
       "      <td>2.95</td>\n",
       "      <td>32.77</td>\n",
       "      <td>80.0</td>\n",
       "      <td>73.0</td>\n",
       "      <td>8</td>\n",
       "      <td>192.0</td>\n",
       "      <td>Nintendo</td>\n",
       "      <td>E</td>\n",
       "    </tr>\n",
       "    <tr>\n",
       "      <th>4</th>\n",
       "      <td>Pokemon Red/Pokemon Blue</td>\n",
       "      <td>GB</td>\n",
       "      <td>1996.0</td>\n",
       "      <td>Role-Playing</td>\n",
       "      <td>Nintendo</td>\n",
       "      <td>11.27</td>\n",
       "      <td>8.89</td>\n",
       "      <td>10.22</td>\n",
       "      <td>1.00</td>\n",
       "      <td>31.37</td>\n",
       "      <td>NaN</td>\n",
       "      <td>NaN</td>\n",
       "      <td>NaN</td>\n",
       "      <td>NaN</td>\n",
       "      <td>NaN</td>\n",
       "      <td>NaN</td>\n",
       "    </tr>\n",
       "    <tr>\n",
       "      <th>...</th>\n",
       "      <td>...</td>\n",
       "      <td>...</td>\n",
       "      <td>...</td>\n",
       "      <td>...</td>\n",
       "      <td>...</td>\n",
       "      <td>...</td>\n",
       "      <td>...</td>\n",
       "      <td>...</td>\n",
       "      <td>...</td>\n",
       "      <td>...</td>\n",
       "      <td>...</td>\n",
       "      <td>...</td>\n",
       "      <td>...</td>\n",
       "      <td>...</td>\n",
       "      <td>...</td>\n",
       "      <td>...</td>\n",
       "    </tr>\n",
       "    <tr>\n",
       "      <th>16714</th>\n",
       "      <td>Samurai Warriors: Sanada Maru</td>\n",
       "      <td>PS3</td>\n",
       "      <td>2016.0</td>\n",
       "      <td>Action</td>\n",
       "      <td>Tecmo Koei</td>\n",
       "      <td>0.00</td>\n",
       "      <td>0.00</td>\n",
       "      <td>0.01</td>\n",
       "      <td>0.00</td>\n",
       "      <td>0.01</td>\n",
       "      <td>NaN</td>\n",
       "      <td>NaN</td>\n",
       "      <td>NaN</td>\n",
       "      <td>NaN</td>\n",
       "      <td>NaN</td>\n",
       "      <td>NaN</td>\n",
       "    </tr>\n",
       "    <tr>\n",
       "      <th>16715</th>\n",
       "      <td>LMA Manager 2007</td>\n",
       "      <td>X360</td>\n",
       "      <td>2006.0</td>\n",
       "      <td>Sports</td>\n",
       "      <td>Codemasters</td>\n",
       "      <td>0.00</td>\n",
       "      <td>0.01</td>\n",
       "      <td>0.00</td>\n",
       "      <td>0.00</td>\n",
       "      <td>0.01</td>\n",
       "      <td>NaN</td>\n",
       "      <td>NaN</td>\n",
       "      <td>NaN</td>\n",
       "      <td>NaN</td>\n",
       "      <td>NaN</td>\n",
       "      <td>NaN</td>\n",
       "    </tr>\n",
       "    <tr>\n",
       "      <th>16716</th>\n",
       "      <td>Haitaka no Psychedelica</td>\n",
       "      <td>PSV</td>\n",
       "      <td>2016.0</td>\n",
       "      <td>Adventure</td>\n",
       "      <td>Idea Factory</td>\n",
       "      <td>0.00</td>\n",
       "      <td>0.00</td>\n",
       "      <td>0.01</td>\n",
       "      <td>0.00</td>\n",
       "      <td>0.01</td>\n",
       "      <td>NaN</td>\n",
       "      <td>NaN</td>\n",
       "      <td>NaN</td>\n",
       "      <td>NaN</td>\n",
       "      <td>NaN</td>\n",
       "      <td>NaN</td>\n",
       "    </tr>\n",
       "    <tr>\n",
       "      <th>16717</th>\n",
       "      <td>Spirits &amp; Spells</td>\n",
       "      <td>GBA</td>\n",
       "      <td>2003.0</td>\n",
       "      <td>Platform</td>\n",
       "      <td>Wanadoo</td>\n",
       "      <td>0.01</td>\n",
       "      <td>0.00</td>\n",
       "      <td>0.00</td>\n",
       "      <td>0.00</td>\n",
       "      <td>0.01</td>\n",
       "      <td>NaN</td>\n",
       "      <td>NaN</td>\n",
       "      <td>NaN</td>\n",
       "      <td>NaN</td>\n",
       "      <td>NaN</td>\n",
       "      <td>NaN</td>\n",
       "    </tr>\n",
       "    <tr>\n",
       "      <th>16718</th>\n",
       "      <td>Winning Post 8 2016</td>\n",
       "      <td>PSV</td>\n",
       "      <td>2016.0</td>\n",
       "      <td>Simulation</td>\n",
       "      <td>Tecmo Koei</td>\n",
       "      <td>0.00</td>\n",
       "      <td>0.00</td>\n",
       "      <td>0.01</td>\n",
       "      <td>0.00</td>\n",
       "      <td>0.01</td>\n",
       "      <td>NaN</td>\n",
       "      <td>NaN</td>\n",
       "      <td>NaN</td>\n",
       "      <td>NaN</td>\n",
       "      <td>NaN</td>\n",
       "      <td>NaN</td>\n",
       "    </tr>\n",
       "  </tbody>\n",
       "</table>\n",
       "<p>16719 rows × 16 columns</p>\n",
       "</div>"
      ],
      "text/plain": [
       "                                Name Platform  Year_of_Release         Genre  \\\n",
       "0                         Wii Sports      Wii           2006.0        Sports   \n",
       "1                  Super Mario Bros.      NES           1985.0      Platform   \n",
       "2                     Mario Kart Wii      Wii           2008.0        Racing   \n",
       "3                  Wii Sports Resort      Wii           2009.0        Sports   \n",
       "4           Pokemon Red/Pokemon Blue       GB           1996.0  Role-Playing   \n",
       "...                              ...      ...              ...           ...   \n",
       "16714  Samurai Warriors: Sanada Maru      PS3           2016.0        Action   \n",
       "16715               LMA Manager 2007     X360           2006.0        Sports   \n",
       "16716        Haitaka no Psychedelica      PSV           2016.0     Adventure   \n",
       "16717               Spirits & Spells      GBA           2003.0      Platform   \n",
       "16718            Winning Post 8 2016      PSV           2016.0    Simulation   \n",
       "\n",
       "          Publisher  NA_Sales  EU_Sales  JP_Sales  Other_Sales  Global_Sales  \\\n",
       "0          Nintendo     41.36     28.96      3.77         8.45         82.53   \n",
       "1          Nintendo     29.08      3.58      6.81         0.77         40.24   \n",
       "2          Nintendo     15.68     12.76      3.79         3.29         35.52   \n",
       "3          Nintendo     15.61     10.93      3.28         2.95         32.77   \n",
       "4          Nintendo     11.27      8.89     10.22         1.00         31.37   \n",
       "...             ...       ...       ...       ...          ...           ...   \n",
       "16714    Tecmo Koei      0.00      0.00      0.01         0.00          0.01   \n",
       "16715   Codemasters      0.00      0.01      0.00         0.00          0.01   \n",
       "16716  Idea Factory      0.00      0.00      0.01         0.00          0.01   \n",
       "16717       Wanadoo      0.01      0.00      0.00         0.00          0.01   \n",
       "16718    Tecmo Koei      0.00      0.00      0.01         0.00          0.01   \n",
       "\n",
       "       Critic_Score  Critic_Count User_Score  User_Count Developer Rating  \n",
       "0              76.0          51.0          8       322.0  Nintendo      E  \n",
       "1               NaN           NaN        NaN         NaN       NaN    NaN  \n",
       "2              82.0          73.0        8.3       709.0  Nintendo      E  \n",
       "3              80.0          73.0          8       192.0  Nintendo      E  \n",
       "4               NaN           NaN        NaN         NaN       NaN    NaN  \n",
       "...             ...           ...        ...         ...       ...    ...  \n",
       "16714           NaN           NaN        NaN         NaN       NaN    NaN  \n",
       "16715           NaN           NaN        NaN         NaN       NaN    NaN  \n",
       "16716           NaN           NaN        NaN         NaN       NaN    NaN  \n",
       "16717           NaN           NaN        NaN         NaN       NaN    NaN  \n",
       "16718           NaN           NaN        NaN         NaN       NaN    NaN  \n",
       "\n",
       "[16719 rows x 16 columns]"
      ]
     },
     "execution_count": 8,
     "metadata": {},
     "output_type": "execute_result"
    }
   ],
   "source": [
    "data = pd.read_csv(\"./data/Video_Games_Sales_as_at_22_Dec_2016.csv\")\n",
    "pd.set_option(\"display.max_rows\", 20)\n",
    "data"
   ]
  },
  {
   "cell_type": "markdown",
   "metadata": {},
   "source": [
    "Before proceeding further, we need to decide upon a target to predict. Video game development budgets can run into the tens of millions of dollars, so it is critical for game publishers to publish \"hit\" games to recoup their costs and make a profit. As a proxy for what constitutes a \"hit\" game, we will set a target of greater than 1 million units in global sales."
   ]
  },
  {
   "cell_type": "code",
   "execution_count": 10,
   "metadata": {},
   "outputs": [],
   "source": [
    "data[\"y\"] = data[\"Global_Sales\"] > 1"
   ]
  },
  {
   "cell_type": "markdown",
   "metadata": {},
   "source": [
    "With our target now defined, let's take a look at the imbalance between the \"hit\" and \"not a hit\" classes:"
   ]
  },
  {
   "cell_type": "code",
   "execution_count": 11,
   "metadata": {},
   "outputs": [
    {
     "data": {
      "image/png": "[encoded data removed]",
      "text/plain": [
       "<Figure size 432x288 with 1 Axes>"
      ]
     },
     "metadata": {
      "needs_background": "light"
     },
     "output_type": "display_data"
    }
   ],
   "source": [
    "plt.bar([\"not a hit\", \"hit\"], data[\"y\"].value_counts())\n",
    "plt.show()"
   ]
  },
  {
   "cell_type": "markdown",
   "metadata": {},
   "source": [
    "Not surprisingly, only a small fraction of games can be considered \"hits\" under our metric. Next, we'll choose features that have predictive power for our target. We'll begin by plotting review scores versus global sales to check our hunch that such scores have an impact on sales. Logarithmic scale is used for clarity."
   ]
  },
  {
   "cell_type": "code",
   "execution_count": 12,
   "metadata": {},
   "outputs": [
    {
     "data": {
      "image/png": "[encoded data removed]",
      "text/plain": [
       "<Figure size 432x288 with 1 Axes>"
      ]
     },
     "metadata": {
      "needs_background": "light"
     },
     "output_type": "display_data"
    },
    {
     "data": {
      "image/png": "[encoded data removed]",
      "text/plain": [
       "<Figure size 432x288 with 1 Axes>"
      ]
     },
     "metadata": {
      "needs_background": "light"
     },
     "output_type": "display_data"
    }
   ],
   "source": [
    "viz = data.filter([\"User_Score\", \"Critic_Score\", \"Global_Sales\"], axis=1)\n",
    "viz[\"User_Score\"] = pd.Series(viz[\"User_Score\"].apply(pd.to_numeric, errors=\"coerce\"))\n",
    "viz[\"User_Score\"] = viz[\"User_Score\"].mask(np.isnan(viz[\"User_Score\"]), viz[\"Critic_Score\"] / 10.0)\n",
    "viz.plot(kind=\"scatter\", logx=True, logy=True, x=\"Critic_Score\", y=\"Global_Sales\")\n",
    "viz.plot(kind=\"scatter\", logx=False, logy=True, x=\"User_Score\", y=\"Global_Sales\")\n",
    "plt.show()"
   ]
  },
  {
   "cell_type": "markdown",
   "metadata": {},
   "source": [
    "Our intuition about the relationship between review scores and sales seems justified. We also note in passing that other relevant features can be extracted from the data set. For example, the ESRB rating has an impact since games with an \"E\" for everyone rating typically reach a wider audience than games with an age-restricted \"M\" for mature rating, though depending on another feature, the genre (such as shooter or action), M-rated games also can be huge hits. Our model hopefully will learn these relationships and others.  \n",
    "\n",
    "Next, looking at the columns of features of this data set, we can identify several that should be excluded. For example, there are five columns that specify sales numbers: these numbers are directly related to the target we're trying to predict, so these columns should be dropped.  Other features may be irrelevant, such as the name of the game."
   ]
  },
  {
   "cell_type": "code",
   "execution_count": 13,
   "metadata": {},
   "outputs": [],
   "source": [
    "data = data.drop(\n",
    "    [\n",
    "        \"Name\",\n",
    "        \"Year_of_Release\",\n",
    "        \"NA_Sales\",\n",
    "        \"EU_Sales\",\n",
    "        \"JP_Sales\",\n",
    "        \"Other_Sales\",\n",
    "        \"Global_Sales\",\n",
    "        \"Critic_Count\",\n",
    "        \"User_Count\",\n",
    "        \"Developer\",\n",
    "    ],\n",
    "    axis=1,\n",
    ")"
   ]
  },
  {
   "cell_type": "markdown",
   "metadata": {},
   "source": [
    "With the number of columns reduced, now is a good time to check how many columns are missing data:"
   ]
  },
  {
   "cell_type": "code",
   "execution_count": 14,
   "metadata": {},
   "outputs": [
    {
     "data": {
      "text/plain": [
       "Platform           0\n",
       "Genre              2\n",
       "Publisher         54\n",
       "Critic_Score    8582\n",
       "User_Score      6704\n",
       "Rating          6769\n",
       "y                  0\n",
       "dtype: int64"
      ]
     },
     "execution_count": 14,
     "metadata": {},
     "output_type": "execute_result"
    }
   ],
   "source": [
    "data.isnull().sum()"
   ]
  },
  {
   "cell_type": "markdown",
   "metadata": {},
   "source": [
    "As noted in Kaggle's overview of this dataset, many review ratings are missing.  Unfortunately, since those are crucial features that we are relying on for our predictions, and there is no reliable way of imputing so many of them, we'll need to drop rows missing those features."
   ]
  },
  {
   "cell_type": "code",
   "execution_count": 15,
   "metadata": {},
   "outputs": [],
   "source": [
    "data = data.dropna()"
   ]
  },
  {
   "cell_type": "markdown",
   "metadata": {},
   "source": [
    "Now we need to resolve a problem we see in the User_Score column: it contains some 'tbd' string values, so it obviously is not numeric. User_Score is more properly a numeric rather than categorical feature, so we'll need to convert it from string type to numeric, and temporarily fill in NaNs for the tbds. Next, we must decide what to do with these new NaNs in the User_Score column. We've already thrown out a large number of rows, so if we can salvage these rows, we should. As a first approximation, we'll take the value in the Critic_Score column and divide by 10 since the user scores tend to track the critic scores (though on a scale of 0 to 10 instead of 0 to 100).  "
   ]
  },
  {
   "cell_type": "code",
   "execution_count": 16,
   "metadata": {},
   "outputs": [],
   "source": [
    "data[\"User_Score\"] = data[\"User_Score\"].apply(pd.to_numeric, errors=\"coerce\")\n",
    "data[\"User_Score\"] = data[\"User_Score\"].mask(\n",
    "    np.isnan(data[\"User_Score\"]), data[\"Critic_Score\"] / 10.0\n",
    ")"
   ]
  },
  {
   "cell_type": "code",
   "execution_count": 18,
   "metadata": {},
   "outputs": [
    {
     "data": {
      "text/html": [
       "<div>\n",
       "<style scoped>\n",
       "    .dataframe tbody tr th:only-of-type {\n",
       "        vertical-align: middle;\n",
       "    }\n",
       "\n",
       "    .dataframe tbody tr th {\n",
       "        vertical-align: top;\n",
       "    }\n",
       "\n",
       "    .dataframe thead th {\n",
       "        text-align: right;\n",
       "    }\n",
       "</style>\n",
       "<table border=\"1\" class=\"dataframe\">\n",
       "  <thead>\n",
       "    <tr style=\"text-align: right;\">\n",
       "      <th></th>\n",
       "      <th>Platform</th>\n",
       "      <th>Genre</th>\n",
       "      <th>Publisher</th>\n",
       "      <th>Critic_Score</th>\n",
       "      <th>User_Score</th>\n",
       "      <th>Rating</th>\n",
       "      <th>y</th>\n",
       "    </tr>\n",
       "  </thead>\n",
       "  <tbody>\n",
       "    <tr>\n",
       "      <th>0</th>\n",
       "      <td>Wii</td>\n",
       "      <td>Sports</td>\n",
       "      <td>Nintendo</td>\n",
       "      <td>76.0</td>\n",
       "      <td>8.0</td>\n",
       "      <td>E</td>\n",
       "      <td>True</td>\n",
       "    </tr>\n",
       "    <tr>\n",
       "      <th>2</th>\n",
       "      <td>Wii</td>\n",
       "      <td>Racing</td>\n",
       "      <td>Nintendo</td>\n",
       "      <td>82.0</td>\n",
       "      <td>8.3</td>\n",
       "      <td>E</td>\n",
       "      <td>True</td>\n",
       "    </tr>\n",
       "    <tr>\n",
       "      <th>3</th>\n",
       "      <td>Wii</td>\n",
       "      <td>Sports</td>\n",
       "      <td>Nintendo</td>\n",
       "      <td>80.0</td>\n",
       "      <td>8.0</td>\n",
       "      <td>E</td>\n",
       "      <td>True</td>\n",
       "    </tr>\n",
       "    <tr>\n",
       "      <th>6</th>\n",
       "      <td>DS</td>\n",
       "      <td>Platform</td>\n",
       "      <td>Nintendo</td>\n",
       "      <td>89.0</td>\n",
       "      <td>8.5</td>\n",
       "      <td>E</td>\n",
       "      <td>True</td>\n",
       "    </tr>\n",
       "    <tr>\n",
       "      <th>7</th>\n",
       "      <td>Wii</td>\n",
       "      <td>Misc</td>\n",
       "      <td>Nintendo</td>\n",
       "      <td>58.0</td>\n",
       "      <td>6.6</td>\n",
       "      <td>E</td>\n",
       "      <td>True</td>\n",
       "    </tr>\n",
       "    <tr>\n",
       "      <th>...</th>\n",
       "      <td>...</td>\n",
       "      <td>...</td>\n",
       "      <td>...</td>\n",
       "      <td>...</td>\n",
       "      <td>...</td>\n",
       "      <td>...</td>\n",
       "      <td>...</td>\n",
       "    </tr>\n",
       "    <tr>\n",
       "      <th>16699</th>\n",
       "      <td>GBA</td>\n",
       "      <td>Action</td>\n",
       "      <td>Titus</td>\n",
       "      <td>67.0</td>\n",
       "      <td>6.7</td>\n",
       "      <td>E</td>\n",
       "      <td>False</td>\n",
       "    </tr>\n",
       "    <tr>\n",
       "      <th>16700</th>\n",
       "      <td>PC</td>\n",
       "      <td>Shooter</td>\n",
       "      <td>Destineer</td>\n",
       "      <td>61.0</td>\n",
       "      <td>5.8</td>\n",
       "      <td>T</td>\n",
       "      <td>False</td>\n",
       "    </tr>\n",
       "    <tr>\n",
       "      <th>16701</th>\n",
       "      <td>GC</td>\n",
       "      <td>Puzzle</td>\n",
       "      <td>Ubisoft</td>\n",
       "      <td>53.0</td>\n",
       "      <td>5.3</td>\n",
       "      <td>E</td>\n",
       "      <td>False</td>\n",
       "    </tr>\n",
       "    <tr>\n",
       "      <th>16702</th>\n",
       "      <td>DS</td>\n",
       "      <td>Puzzle</td>\n",
       "      <td>Majesco Entertainment</td>\n",
       "      <td>48.0</td>\n",
       "      <td>4.8</td>\n",
       "      <td>E</td>\n",
       "      <td>False</td>\n",
       "    </tr>\n",
       "    <tr>\n",
       "      <th>16706</th>\n",
       "      <td>PC</td>\n",
       "      <td>Strategy</td>\n",
       "      <td>Unknown</td>\n",
       "      <td>60.0</td>\n",
       "      <td>7.2</td>\n",
       "      <td>E10+</td>\n",
       "      <td>False</td>\n",
       "    </tr>\n",
       "  </tbody>\n",
       "</table>\n",
       "<p>8021 rows × 7 columns</p>\n",
       "</div>"
      ],
      "text/plain": [
       "      Platform     Genre              Publisher  Critic_Score  User_Score  \\\n",
       "0          Wii    Sports               Nintendo          76.0         8.0   \n",
       "2          Wii    Racing               Nintendo          82.0         8.3   \n",
       "3          Wii    Sports               Nintendo          80.0         8.0   \n",
       "6           DS  Platform               Nintendo          89.0         8.5   \n",
       "7          Wii      Misc               Nintendo          58.0         6.6   \n",
       "...        ...       ...                    ...           ...         ...   \n",
       "16699      GBA    Action                  Titus          67.0         6.7   \n",
       "16700       PC   Shooter              Destineer          61.0         5.8   \n",
       "16701       GC    Puzzle                Ubisoft          53.0         5.3   \n",
       "16702       DS    Puzzle  Majesco Entertainment          48.0         4.8   \n",
       "16706       PC  Strategy                Unknown          60.0         7.2   \n",
       "\n",
       "      Rating      y  \n",
       "0          E   True  \n",
       "2          E   True  \n",
       "3          E   True  \n",
       "6          E   True  \n",
       "7          E   True  \n",
       "...      ...    ...  \n",
       "16699      E  False  \n",
       "16700      T  False  \n",
       "16701      E  False  \n",
       "16702      E  False  \n",
       "16706   E10+  False  \n",
       "\n",
       "[8021 rows x 7 columns]"
      ]
     },
     "execution_count": 18,
     "metadata": {},
     "output_type": "execute_result"
    }
   ],
   "source": [
    "data"
   ]
  },
  {
   "cell_type": "markdown",
   "metadata": {},
   "source": [
    "Let's do some final preprocessing of the data, including converting the categorical features into numeric using the one-hot encoding method."
   ]
  },
  {
   "cell_type": "code",
   "execution_count": 19,
   "metadata": {},
   "outputs": [],
   "source": [
    "if data[\"y\"].dtype == bool:\n",
    "    data[\"y\"] = data[\"y\"].apply(lambda y: \"yes\" if y == True else \"no\")\n",
    "model_data = pd.get_dummies(data)"
   ]
  },
  {
   "cell_type": "markdown",
   "metadata": {},
   "source": [
    "To help prevent overfitting the model, we'll randomly split the data into three groups. Specifically, the model will be trained on 70% of the data. It will then be evaluated on 20% of the data to give us an estimate of the accuracy we hope to have on \"new\" data. As a final testing dataset, the remaining 10% will be held out until the end."
   ]
  },
  {
   "cell_type": "code",
   "execution_count": 20,
   "metadata": {},
   "outputs": [],
   "source": [
    "train_data, validation_data, test_data = np.split(\n",
    "    model_data.sample(frac=1, random_state=1729),\n",
    "    [int(0.7 * len(model_data)), int(0.9 * len(model_data))],\n",
    ")"
   ]
  },
  {
   "cell_type": "markdown",
   "metadata": {},
   "source": [
    "Amazon SageMaker's version of XGBoost supports input data in both CSV and libSVM data format.  We'll use libSVM here, with features and the target variable provided as separate arguments. To avoid any misalignment issues due to random reordering, this split is done after the previous split in the above cell. As a last step before training, we'll copy the resulting files to S3 as input for Amazon SageMaker's hosted training."
   ]
  },
  {
   "cell_type": "code",
   "execution_count": 24,
   "metadata": {},
   "outputs": [],
   "source": [
    "dump_svmlight_file(\n",
    "    X=train_data.drop([\"y_no\", \"y_yes\"], axis=1), y=train_data[\"y_yes\"], f=\"train.libsvm\"\n",
    ")\n",
    "dump_svmlight_file(\n",
    "    X=validation_data.drop([\"y_no\", \"y_yes\"], axis=1),\n",
    "    y=validation_data[\"y_yes\"],\n",
    "    f=\"validation.libsvm\",\n",
    ")\n",
    "dump_svmlight_file(\n",
    "    X=test_data.drop([\"y_no\", \"y_yes\"], axis=1), y=test_data[\"y_yes\"], f=\"test.libsvm\"\n",
    ")\n",
    "\n",
    "s3.Bucket(bucket).Object(prefix + \"/train/train.libsvm\").upload_file(\"train.libsvm\")\n",
    "s3.Bucket(bucket).Object(prefix + \"/validation/validation.libsvm\").upload_file(\"validation.libsvm\")\n",
    "\n",
    "s3_input_train = sagemaker.TrainingInput(\n",
    "    s3_data=\"s3://{}/{}/train\".format(bucket, prefix), content_type=\"libsvm\"\n",
    ")\n",
    "s3_input_validation = sagemaker.TrainingInput(\n",
    "    s3_data=\"s3://{}/{}/validation/\".format(bucket, prefix), content_type=\"libsvm\"\n",
    ")"
   ]
  },
  {
   "cell_type": "markdown",
   "metadata": {},
   "source": [
    "---\n",
    "## Train\n",
    "\n",
    "Our data is now ready to be used to train a XGBoost model. The XGBoost algorithm has many tunable hyperparameters. Some of these hyperparameters are listed below; initially we'll only use a few of them.  \n",
    "\n",
    "- `max_depth`: Maximum depth of a tree. As a cautionary note, a value too small could underfit the data, while increasing it will make the model more complex and thus more likely to overfit the data (in other words, the classic bias-variance tradeoff).\n",
    "- `eta`: Step size shrinkage used in updates to prevent overfitting.  \n",
    "- `eval_metric`: Evaluation metric(s) for validation data. For data sets such as this one with imbalanced classes, we'll use the AUC metric.\n",
    "- `scale_pos_weight`: Controls the balance of positive and negative weights, again useful for data sets having imbalanced classes.\n",
    "\n",
    "First we'll set up the parameters for an Amazon SageMaker Estimator object, and the hyperparameters for the algorithm itself.  The Estimator object from the Amazon SageMaker Python SDK is a convenient way to set up training jobs with a minimal amount of code."
   ]
  },
  {
   "cell_type": "code",
   "execution_count": 39,
   "metadata": {},
   "outputs": [],
   "source": [
    "from sagemaker.amazon.amazon_estimator import get_image_uri\n",
    "\n",
    "container = sagemaker.image_uris.retrieve(\"xgboost\", region=region, version=\"1.0-1\")\n",
    "\n",
    "xgb = sagemaker.estimator.Estimator(\n",
    "    image_uri=container,\n",
    "    role=role,\n",
    "    base_job_name=\"DEMO-videogames-xgboost\",\n",
    "    instance_count=1,\n",
    "    instance_type=\"ml.c5.xlarge\",\n",
    "    #use_spot_instances=True,\n",
    "    #max_wait=30*60\n",
    ")\n",
    "\n",
    "xgb.set_hyperparameters(\n",
    "    max_depth=3,\n",
    "    eta=0.1,\n",
    "    subsample=0.5,\n",
    "    eval_metric=\"auc\",\n",
    "    objective=\"binary:logistic\",\n",
    "    scale_pos_weight=2.0,\n",
    "    num_round=100,\n",
    ")"
   ]
  },
  {
   "cell_type": "markdown",
   "metadata": {},
   "source": [
    "Next, we'll run the hosted training job itself.  The hardware used for the training job is separate from your notebook instance and is managed by Amazon SageMaker, which performs the heavy lifting such as setting up a training cluster and tearing it down when the job is done.  A single line of code starts the training job."
   ]
  },
  {
   "cell_type": "code",
   "execution_count": 40,
   "metadata": {},
   "outputs": [
    {
     "name": "stdout",
     "output_type": "stream",
     "text": [
      "2021-05-27 09:52:18 Starting - Starting the training job...\n",
      "2021-05-27 09:52:41 Starting - Launching requested ML instancesProfilerReport-1622109138: InProgress\n",
      "......\n",
      "2021-05-27 09:53:41 Starting - Preparing the instances for training......\n",
      "2021-05-27 09:54:42 Downloading - Downloading input data\n",
      "2021-05-27 09:54:42 Training - Downloading the training image...\n",
      "2021-05-27 09:55:15 Uploading - Uploading generated training model\n",
      "2021-05-27 09:55:15 Completed - Training job completed\n",
      "\u001b[34mINFO:sagemaker-containers:Imported framework sagemaker_xgboost_container.training\u001b[0m\n",
      "\u001b[34mINFO:sagemaker-containers:Failed to parse hyperparameter eval_metric value auc to Json.\u001b[0m\n",
      "\u001b[34mReturning the value itself\u001b[0m\n",
      "\u001b[34mINFO:sagemaker-containers:Failed to parse hyperparameter objective value binary:logistic to Json.\u001b[0m\n",
      "\u001b[34mReturning the value itself\u001b[0m\n",
      "\u001b[34mINFO:sagemaker-containers:No GPUs detected (normal if no gpus installed)\u001b[0m\n",
      "\u001b[34mINFO:sagemaker_xgboost_container.training:Running XGBoost Sagemaker in algorithm mode\u001b[0m\n",
      "\u001b[34m[09:55:03] 5614x331 matrix with 33684 entries loaded from /opt/ml/input/data/train\u001b[0m\n",
      "\u001b[34m[09:55:03] 1604x331 matrix with 9624 entries loaded from /opt/ml/input/data/validation\u001b[0m\n",
      "\u001b[34mINFO:root:Single node training.\u001b[0m\n",
      "\u001b[34mINFO:root:Train matrix has 5614 rows\u001b[0m\n",
      "\u001b[34mINFO:root:Validation matrix has 1604 rows\u001b[0m\n",
      "\u001b[34m[0]#011train-auc:0.77880#011validation-auc:0.76548\u001b[0m\n",
      "\u001b[34m[1]#011train-auc:0.79049#011validation-auc:0.77644\u001b[0m\n",
      "\u001b[34m[2]#011train-auc:0.79447#011validation-auc:0.77948\u001b[0m\n",
      "\u001b[34m[3]#011train-auc:0.80048#011validation-auc:0.78807\u001b[0m\n",
      "\u001b[34m[4]#011train-auc:0.80771#011validation-auc:0.79238\u001b[0m\n",
      "\u001b[34m[5]#011train-auc:0.80972#011validation-auc:0.79396\u001b[0m\n",
      "\u001b[34m[6]#011train-auc:0.81080#011validation-auc:0.79247\u001b[0m\n",
      "\u001b[34m[7]#011train-auc:0.81212#011validation-auc:0.79413\u001b[0m\n",
      "\u001b[34m[8]#011train-auc:0.81401#011validation-auc:0.79506\u001b[0m\n",
      "\u001b[34m[9]#011train-auc:0.81483#011validation-auc:0.79520\u001b[0m\n",
      "\u001b[34m[10]#011train-auc:0.81763#011validation-auc:0.79919\u001b[0m\n",
      "\u001b[34m[11]#011train-auc:0.81947#011validation-auc:0.80040\u001b[0m\n",
      "\u001b[34m[12]#011train-auc:0.82101#011validation-auc:0.80230\u001b[0m\n",
      "\u001b[34m[13]#011train-auc:0.82369#011validation-auc:0.80253\u001b[0m\n",
      "\u001b[34m[14]#011train-auc:0.82414#011validation-auc:0.80356\u001b[0m\n",
      "\u001b[34m[15]#011train-auc:0.82662#011validation-auc:0.80604\u001b[0m\n",
      "\u001b[34m[16]#011train-auc:0.82807#011validation-auc:0.80886\u001b[0m\n",
      "\u001b[34m[17]#011train-auc:0.83115#011validation-auc:0.80937\u001b[0m\n",
      "\u001b[34m[18]#011train-auc:0.83259#011validation-auc:0.80805\u001b[0m\n",
      "\u001b[34m[19]#011train-auc:0.83325#011validation-auc:0.80876\u001b[0m\n",
      "\u001b[34m[20]#011train-auc:0.83419#011validation-auc:0.80815\u001b[0m\n",
      "\u001b[34m[21]#011train-auc:0.83624#011validation-auc:0.81082\u001b[0m\n",
      "\u001b[34m[22]#011train-auc:0.83778#011validation-auc:0.81371\u001b[0m\n",
      "\u001b[34m[23]#011train-auc:0.83876#011validation-auc:0.81446\u001b[0m\n",
      "\u001b[34m[24]#011train-auc:0.83951#011validation-auc:0.81375\u001b[0m\n",
      "\u001b[34m[25]#011train-auc:0.84020#011validation-auc:0.81468\u001b[0m\n",
      "\u001b[34m[26]#011train-auc:0.84216#011validation-auc:0.81653\u001b[0m\n",
      "\u001b[34m[27]#011train-auc:0.84391#011validation-auc:0.81694\u001b[0m\n",
      "\u001b[34m[28]#011train-auc:0.84562#011validation-auc:0.81737\u001b[0m\n",
      "\u001b[34m[29]#011train-auc:0.84649#011validation-auc:0.81834\u001b[0m\n",
      "\u001b[34m[30]#011train-auc:0.84862#011validation-auc:0.82016\u001b[0m\n",
      "\u001b[34m[31]#011train-auc:0.84920#011validation-auc:0.82063\u001b[0m\n",
      "\u001b[34m[32]#011train-auc:0.85106#011validation-auc:0.82178\u001b[0m\n",
      "\u001b[34m[33]#011train-auc:0.85190#011validation-auc:0.82209\u001b[0m\n",
      "\u001b[34m[34]#011train-auc:0.85324#011validation-auc:0.82279\u001b[0m\n",
      "\u001b[34m[35]#011train-auc:0.85416#011validation-auc:0.82235\u001b[0m\n",
      "\u001b[34m[36]#011train-auc:0.85510#011validation-auc:0.82299\u001b[0m\n",
      "\u001b[34m[37]#011train-auc:0.85619#011validation-auc:0.82483\u001b[0m\n",
      "\u001b[34m[38]#011train-auc:0.85697#011validation-auc:0.82524\u001b[0m\n",
      "\u001b[34m[39]#011train-auc:0.85732#011validation-auc:0.82668\u001b[0m\n",
      "\u001b[34m[40]#011train-auc:0.85779#011validation-auc:0.82715\u001b[0m\n",
      "\u001b[34m[41]#011train-auc:0.85975#011validation-auc:0.82886\u001b[0m\n",
      "\u001b[34m[42]#011train-auc:0.86120#011validation-auc:0.82867\u001b[0m\n",
      "\u001b[34m[43]#011train-auc:0.86174#011validation-auc:0.82910\u001b[0m\n",
      "\u001b[34m[44]#011train-auc:0.86281#011validation-auc:0.82910\u001b[0m\n",
      "\u001b[34m[45]#011train-auc:0.86300#011validation-auc:0.82915\u001b[0m\n",
      "\u001b[34m[46]#011train-auc:0.86423#011validation-auc:0.82993\u001b[0m\n",
      "\u001b[34m[47]#011train-auc:0.86539#011validation-auc:0.83090\u001b[0m\n",
      "\u001b[34m[48]#011train-auc:0.86607#011validation-auc:0.83073\u001b[0m\n",
      "\u001b[34m[49]#011train-auc:0.86669#011validation-auc:0.83173\u001b[0m\n",
      "\u001b[34m[50]#011train-auc:0.86711#011validation-auc:0.83210\u001b[0m\n",
      "\u001b[34m[51]#011train-auc:0.86785#011validation-auc:0.83275\u001b[0m\n",
      "\u001b[34m[52]#011train-auc:0.86807#011validation-auc:0.83254\u001b[0m\n",
      "\u001b[34m[53]#011train-auc:0.86917#011validation-auc:0.83358\u001b[0m\n",
      "\u001b[34m[54]#011train-auc:0.87034#011validation-auc:0.83462\u001b[0m\n",
      "\u001b[34m[55]#011train-auc:0.87096#011validation-auc:0.83533\u001b[0m\n",
      "\u001b[34m[56]#011train-auc:0.87198#011validation-auc:0.83643\u001b[0m\n",
      "\u001b[34m[57]#011train-auc:0.87284#011validation-auc:0.83723\u001b[0m\n",
      "\u001b[34m[58]#011train-auc:0.87299#011validation-auc:0.83751\u001b[0m\n",
      "\u001b[34m[59]#011train-auc:0.87345#011validation-auc:0.83756\u001b[0m\n",
      "\u001b[34m[60]#011train-auc:0.87387#011validation-auc:0.83654\u001b[0m\n",
      "\u001b[34m[61]#011train-auc:0.87409#011validation-auc:0.83657\u001b[0m\n",
      "\u001b[34m[62]#011train-auc:0.87450#011validation-auc:0.83686\u001b[0m\n",
      "\u001b[34m[63]#011train-auc:0.87491#011validation-auc:0.83715\u001b[0m\n",
      "\u001b[34m[64]#011train-auc:0.87570#011validation-auc:0.83781\u001b[0m\n",
      "\u001b[34m[65]#011train-auc:0.87622#011validation-auc:0.83835\u001b[0m\n",
      "\u001b[34m[66]#011train-auc:0.87680#011validation-auc:0.83852\u001b[0m\n",
      "\u001b[34m[67]#011train-auc:0.87719#011validation-auc:0.83875\u001b[0m\n",
      "\u001b[34m[68]#011train-auc:0.87734#011validation-auc:0.83859\u001b[0m\n",
      "\u001b[34m[69]#011train-auc:0.87783#011validation-auc:0.83917\u001b[0m\n",
      "\u001b[34m[70]#011train-auc:0.87833#011validation-auc:0.83983\u001b[0m\n",
      "\u001b[34m[71]#011train-auc:0.87862#011validation-auc:0.83976\u001b[0m\n",
      "\u001b[34m[72]#011train-auc:0.87894#011validation-auc:0.83991\u001b[0m\n",
      "\u001b[34m[73]#011train-auc:0.87970#011validation-auc:0.84154\u001b[0m\n",
      "\u001b[34m[74]#011train-auc:0.87994#011validation-auc:0.84185\u001b[0m\n",
      "\u001b[34m[75]#011train-auc:0.88031#011validation-auc:0.84161\u001b[0m\n",
      "\u001b[34m[76]#011train-auc:0.88084#011validation-auc:0.84205\u001b[0m\n",
      "\u001b[34m[77]#011train-auc:0.88127#011validation-auc:0.84235\u001b[0m\n",
      "\u001b[34m[78]#011train-auc:0.88211#011validation-auc:0.84246\u001b[0m\n",
      "\u001b[34m[79]#011train-auc:0.88250#011validation-auc:0.84319\u001b[0m\n",
      "\u001b[34m[80]#011train-auc:0.88293#011validation-auc:0.84329\u001b[0m\n",
      "\u001b[34m[81]#011train-auc:0.88347#011validation-auc:0.84352\u001b[0m\n",
      "\u001b[34m[82]#011train-auc:0.88369#011validation-auc:0.84361\u001b[0m\n",
      "\u001b[34m[83]#011train-auc:0.88410#011validation-auc:0.84317\u001b[0m\n",
      "\u001b[34m[84]#011train-auc:0.88476#011validation-auc:0.84287\u001b[0m\n",
      "\u001b[34m[85]#011train-auc:0.88554#011validation-auc:0.84244\u001b[0m\n",
      "\u001b[34m[86]#011train-auc:0.88590#011validation-auc:0.84255\u001b[0m\n",
      "\u001b[34m[87]#011train-auc:0.88612#011validation-auc:0.84211\u001b[0m\n",
      "\u001b[34m[88]#011train-auc:0.88639#011validation-auc:0.84242\u001b[0m\n",
      "\u001b[34m[89]#011train-auc:0.88660#011validation-auc:0.84305\u001b[0m\n",
      "\u001b[34m[90]#011train-auc:0.88689#011validation-auc:0.84285\u001b[0m\n",
      "\u001b[34m[91]#011train-auc:0.88682#011validation-auc:0.84300\u001b[0m\n",
      "\u001b[34m[92]#011train-auc:0.88708#011validation-auc:0.84314\u001b[0m\n",
      "\u001b[34m[93]#011train-auc:0.88712#011validation-auc:0.84245\u001b[0m\n",
      "\u001b[34m[94]#011train-auc:0.88751#011validation-auc:0.84265\u001b[0m\n",
      "\u001b[34m[95]#011train-auc:0.88796#011validation-auc:0.84336\u001b[0m\n",
      "\u001b[34m[96]#011train-auc:0.88825#011validation-auc:0.84369\u001b[0m\n",
      "\u001b[34m[97]#011train-auc:0.88874#011validation-auc:0.84533\u001b[0m\n",
      "\u001b[34m[98]#011train-auc:0.88966#011validation-auc:0.84498\u001b[0m\n",
      "\u001b[34m[99]#011train-auc:0.88998#011validation-auc:0.84512\u001b[0m\n",
      "Training seconds: 52\n",
      "Billable seconds: 52\n"
     ]
    }
   ],
   "source": [
    "xgb.fit({\"train\": s3_input_train, \"validation\": s3_input_validation})"
   ]
  },
  {
   "cell_type": "markdown",
   "metadata": {},
   "source": [
    "---\n",
    "## Host\n",
    "\n",
    "Now that we've trained the XGBoost algorithm on our data, we can deploy the trained model to an Amazon SageMaker hosted endpoint with one simple line of code."
   ]
  },
  {
   "cell_type": "code",
   "execution_count": null,
   "metadata": {},
   "outputs": [
    {
     "name": "stdout",
     "output_type": "stream",
     "text": [
      "----"
     ]
    }
   ],
   "source": [
    "xgb_predictor = xgb.deploy(initial_instance_count=1, instance_type=\"ml.m5.xlarge\")"
   ]
  },
  {
   "cell_type": "markdown",
   "metadata": {},
   "source": [
    "---\n",
    "\n",
    "## Evaluation\n",
    "\n",
    "Now that we have our hosted endpoint, we can generate predictions from it. More specifically, let's generate predictions from our test data set to understand how well our model generalizes to data it has not seen yet.\n",
    "\n",
    "There are many ways to compare the performance of a machine learning model.  We'll start simply by comparing actual to predicted values of whether the game was a \"hit\" (`1`) or not (`0`).  Then we'll produce a  confusion matrix, which shows how many test data points were predicted by the model in each category versus how many test data points actually belonged in each category."
   ]
  },
  {
   "cell_type": "code",
   "execution_count": null,
   "metadata": {},
   "outputs": [],
   "source": [
    "xgb_predictor.content_type = \"text/x-libsvm\"\n",
    "xgb_predictor.deserializer = None\n",
    "\n",
    "\n",
    "def do_predict(data):\n",
    "    payload = \"\\n\".join(data)\n",
    "    response = xgb_predictor.predict(payload).decode(\"utf-8\")\n",
    "    result = response.split(\",\")\n",
    "    preds = [float((num)) for num in result]\n",
    "    preds = [round(num) for num in preds]\n",
    "    return preds\n",
    "\n",
    "\n",
    "def batch_predict(data, batch_size):\n",
    "    items = len(data)\n",
    "    arrs = []\n",
    "\n",
    "    for offset in range(0, items, batch_size):\n",
    "        if offset + batch_size < items:\n",
    "            results = do_predict(data[offset : (offset + batch_size)])\n",
    "            arrs.extend(results)\n",
    "        else:\n",
    "            arrs.extend(do_predict(data[offset:items]))\n",
    "        sys.stdout.write(\".\")\n",
    "    return arrs"
   ]
  },
  {
   "cell_type": "code",
   "execution_count": null,
   "metadata": {},
   "outputs": [],
   "source": [
    "%%time\n",
    "import json\n",
    "\n",
    "with open(\"test.libsvm\", \"r\") as f:\n",
    "    payload = f.read().strip()\n",
    "\n",
    "labels = [int(line.split(\" \")[0]) for line in payload.split(\"\\n\")]\n",
    "test_data = [line for line in payload.split(\"\\n\")]\n",
    "preds = batch_predict(test_data, 100)\n",
    "\n",
    "print(\n",
    "    \"\\nerror rate=%f\"\n",
    "    % (sum(1 for i in range(len(preds)) if preds[i] != labels[i]) / float(len(preds)))\n",
    ")"
   ]
  },
  {
   "cell_type": "code",
   "execution_count": null,
   "metadata": {},
   "outputs": [],
   "source": [
    "pd.crosstab(index=np.array(labels), columns=np.array(preds))"
   ]
  },
  {
   "cell_type": "markdown",
   "metadata": {},
   "source": [
    "Of the 132 games in the test set that actually are \"hits\" by our metric, the model correctly identified over 70, while the overall error rate is 13%.  The amount of false negatives versus true positives can be shifted substantially in favor of true positives by increasing the hyperparameter scale_pos_weight. Of course, this increase comes at the expense of reduced accuracy/increased error rate and more false positives. How to make this trade-off ultimately is a business decision based on the relative costs of false positives, false negatives, etc."
   ]
  },
  {
   "cell_type": "markdown",
   "metadata": {},
   "source": [
    "---\n",
    "## Extensions\n",
    "\n",
    "This XGBoost model is just the starting point for predicting whether a game will be a hit based on reviews and other attributes.  There are several possible avenues for improving the model's performance.  First, of course, would be to collect more data and, if possible, fill in the existing missing fields with actual information.  Another possibility is further hyperparameter tuning using Amazon SageMaker's Automatic Model Tuning feature.  Examples of using this feature can be found in the [hyperparameter tuning directory of the SageMaker Examples GitHub repository](https://github.com/awslabs/amazon-sagemaker-examples/tree/master/hyperparameter_tuning) and the **SageMaker Examples** tab of Amazon SageMaker notebook instances.  And, although ensemble learners often do well with imbalanced data sets, it could be worth exploring techniques for mitigating imbalances such as downsampling, synthetic data augmentation, and other approaches.  \n",
    "\n",
    "---\n",
    "## Cleanup\n",
    "\n",
    "If you are finished with this notebook, please run the cell below. This will remove the hosted endpoint you created and avoid any charges from a stray instance being left on."
   ]
  },
  {
   "cell_type": "code",
   "execution_count": null,
   "metadata": {},
   "outputs": [],
   "source": [
    "session.delete_endpoint(xgb_predictor.endpoint)"
   ]
  }
 ],
 "metadata": {
  "instance_type": "ml.t3.medium",
  "kernelspec": {
   "display_name": "Python 3 (Data Science)",
   "language": "python",
   "name": "python3__SAGEMAKER_INTERNAL__arn:aws:sagemaker:eu-central-1:936697816551:image/datascience-1.0"
  },
  "language_info": {
   "codemirror_mode": {
    "name": "ipython",
    "version": 3
   },
   "file_extension": ".py",
   "mimetype": "text/x-python",
   "name": "python",
   "nbconvert_exporter": "python",
   "pygments_lexer": "ipython3",
   "version": "3.7.10"
  },
  "notice": "Copyright 2017 Amazon.com, Inc. or its affiliates. All Rights Reserved.  Licensed under the Apache License, Version 2.0 (the \"License\"). You may not use this file except in compliance with the License. A copy of the License is located at http://aws.amazon.com/apache2.0/ or in the \"license\" file accompanying this file. This file is distributed on an \"AS IS\" BASIS, WITHOUT WARRANTIES OR CONDITIONS OF ANY KIND, either express or implied. See the License for the specific language governing permissions and limitations under the License."
 },
 "nbformat": 4,
 "nbformat_minor": 4
}
